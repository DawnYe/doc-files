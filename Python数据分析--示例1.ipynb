{
 "cells": [
  {
   "cell_type": "markdown",
   "metadata": {
    "collapsed": true
   },
   "source": [
    "## Python数据分析分享--示例1"
   ]
  },
  {
   "cell_type": "markdown",
   "metadata": {},
   "source": [
    "### 导入数据"
   ]
  },
  {
   "cell_type": "code",
   "execution_count": 1,
   "metadata": {
    "collapsed": true
   },
   "outputs": [],
   "source": [
    "import pandas as pd\n",
    "\n",
    "data_url = \"https://raw.githubusercontent.com/alstat/Analysis-with-Programming/master/2014/Python/Numerical-Descriptions-of-the-Data/data.csv\"\n",
    "df = pd.read_csv(data_url)"
   ]
  },
  {
   "cell_type": "markdown",
   "metadata": {},
   "source": [
    "### 查看数据"
   ]
  },
  {
   "cell_type": "code",
   "execution_count": 2,
   "metadata": {},
   "outputs": [
    {
     "name": "stdout",
     "output_type": "stream",
     "text": [
      "    Abra  Apayao  Benguet  Ifugao  Kalinga\n",
      "0   1243    2934      148    3300    10553\n",
      "1   4158    9235     4287    8063    35257\n",
      "2   1787    1922     1955    1074     4544\n",
      "3  17152   14501     3536   19607    31687\n",
      "4   1266    2385     2530    3315     8520\n"
     ]
    }
   ],
   "source": [
    "print(df.head())"
   ]
  },
  {
   "cell_type": "code",
   "execution_count": 3,
   "metadata": {},
   "outputs": [
    {
     "name": "stdout",
     "output_type": "stream",
     "text": [
      "     Abra  Apayao  Benguet  Ifugao  Kalinga\n",
      "74   2505   20878     3519   19737    16513\n",
      "75  60303   40065     7062   19422    61808\n",
      "76   6311    6756     3561   15910    23349\n",
      "77  13345   38902     2583   11096    68663\n",
      "78   2623   18264     3745   16787    16900\n"
     ]
    }
   ],
   "source": [
    "print(df.tail())"
   ]
  },
  {
   "cell_type": "markdown",
   "metadata": {},
   "source": [
    "### 查看列名和行名"
   ]
  },
  {
   "cell_type": "code",
   "execution_count": 4,
   "metadata": {},
   "outputs": [
    {
     "name": "stdout",
     "output_type": "stream",
     "text": [
      "Index(['Abra', 'Apayao', 'Benguet', 'Ifugao', 'Kalinga'], dtype='object')\n"
     ]
    }
   ],
   "source": [
    "print(df.columns)"
   ]
  },
  {
   "cell_type": "code",
   "execution_count": 5,
   "metadata": {},
   "outputs": [
    {
     "name": "stdout",
     "output_type": "stream",
     "text": [
      "RangeIndex(start=0, stop=79, step=1)\n"
     ]
    }
   ],
   "source": [
    "print(df.index)"
   ]
  },
  {
   "cell_type": "markdown",
   "metadata": {},
   "source": [
    "### 几种基本的数据操作"
   ]
  },
  {
   "cell_type": "markdown",
   "metadata": {},
   "source": [
    "#### 数据转置"
   ]
  },
  {
   "cell_type": "code",
   "execution_count": 6,
   "metadata": {},
   "outputs": [
    {
     "name": "stdout",
     "output_type": "stream",
     "text": [
      "            0      1     2      3     4      5     6      7     8      9   \\\n",
      "Abra      1243   4158  1787  17152  1266   5576   927  21540  1039   5424   \n",
      "Apayao    2934   9235  1922  14501  2385   7452  1099  17038  1382  10588   \n",
      "Benguet    148   4287  1955   3536  2530    771  2796   2463  2592   1064   \n",
      "Ifugao    3300   8063  1074  19607  3315  13134  5134  14226  6842  13828   \n",
      "Kalinga  10553  35257  4544  31687  8520  28252  3106  36238  4973  40140   \n",
      "\n",
      "         ...       69     70     71     72     73     74     75     76     77  \\\n",
      "Abra     ...    12763   2470  59094   6209  13316   2505  60303   6311  13345   \n",
      "Apayao   ...    37625  19532  35126   6335  38613  20878  40065   6756  38902   \n",
      "Benguet  ...     2354   4045   5987   3530   2585   3519   7062   3561   2583   \n",
      "Ifugao   ...     9838  17125  18940  15560   7746  19737  19422  15910  11096   \n",
      "Kalinga  ...    65782  15279  52437  24385  66148  16513  61808  23349  68663   \n",
      "\n",
      "            78  \n",
      "Abra      2623  \n",
      "Apayao   18264  \n",
      "Benguet   3745  \n",
      "Ifugao   16787  \n",
      "Kalinga  16900  \n",
      "\n",
      "[5 rows x 79 columns]\n"
     ]
    }
   ],
   "source": [
    "print(df.T)"
   ]
  },
  {
   "cell_type": "markdown",
   "metadata": {},
   "source": [
    "#### 数据部分提取或删除"
   ]
  },
  {
   "cell_type": "markdown",
   "metadata": {},
   "source": [
    "Python中可以使用`iloc`属性进行提取。如提取数据第一列前5行："
   ]
  },
  {
   "cell_type": "code",
   "execution_count": 7,
   "metadata": {},
   "outputs": [
    {
     "name": "stdout",
     "output_type": "stream",
     "text": [
      "0     1243\n",
      "1     4158\n",
      "2     1787\n",
      "3    17152\n",
      "4     1266\n",
      "Name: Abra, dtype: int64\n"
     ]
    }
   ],
   "source": [
    "print(df.iloc[:,0].head())"
   ]
  },
  {
   "cell_type": "markdown",
   "metadata": {},
   "source": [
    "提取数据第11到20行的前4列数据："
   ]
  },
  {
   "cell_type": "code",
   "execution_count": 8,
   "metadata": {},
   "outputs": [
    {
     "name": "stdout",
     "output_type": "stream",
     "text": [
      "     Abra  Apayao  Benguet  Ifugao\n",
      "10    981    1311     2560    5078\n",
      "11  27366   15093     3039   14206\n",
      "12   1100    1701     2382    6750\n",
      "13   7212   11001     1088   14774\n",
      "14   1048    1427     2847    5526\n",
      "15  25679   15661     2942   14452\n",
      "16   1055    2191     2119    5882\n",
      "17   5437    6461      734   10477\n",
      "18   1029    1183     2302    6438\n",
      "19  23710   12222     2598    8446\n"
     ]
    }
   ],
   "source": [
    "print(df.iloc[10:20,0:4])"
   ]
  },
  {
   "cell_type": "markdown",
   "metadata": {},
   "source": [
    "删除前两列，使用`drop`属性；并设置`axis`参数，`axis = 0`表示删除行，`axis = 1`表示删除列。"
   ]
  },
  {
   "cell_type": "code",
   "execution_count": 9,
   "metadata": {},
   "outputs": [
    {
     "name": "stdout",
     "output_type": "stream",
     "text": [
      "   Benguet  Ifugao  Kalinga\n",
      "0      148    3300    10553\n",
      "1     4287    8063    35257\n",
      "2     1955    1074     4544\n",
      "3     3536   19607    31687\n",
      "4     2530    3315     8520\n"
     ]
    }
   ],
   "source": [
    "print(df.drop(df.columns[[0,1]], axis = 1).head())"
   ]
  },
  {
   "cell_type": "markdown",
   "metadata": {},
   "source": [
    "### 基本统计描述"
   ]
  },
  {
   "cell_type": "markdown",
   "metadata": {},
   "source": [
    "使用`describe`属性，可对数据进行基本的统计描述。"
   ]
  },
  {
   "cell_type": "code",
   "execution_count": 10,
   "metadata": {},
   "outputs": [
    {
     "name": "stdout",
     "output_type": "stream",
     "text": [
      "               Abra        Apayao      Benguet        Ifugao       Kalinga\n",
      "count     79.000000     79.000000    79.000000     79.000000     79.000000\n",
      "mean   12874.379747  16860.645570  3237.392405  12414.620253  30446.417722\n",
      "std    16746.466945  15448.153794  1588.536429   5034.282019  22245.707692\n",
      "min      927.000000    401.000000   148.000000   1074.000000   2346.000000\n",
      "25%     1524.000000   3435.500000  2328.000000   8205.000000   8601.500000\n",
      "50%     5790.000000  10588.000000  3202.000000  13044.000000  24494.000000\n",
      "75%    13330.500000  33289.000000  3918.500000  16099.500000  52510.500000\n",
      "max    60303.000000  54625.000000  8813.000000  21031.000000  68663.000000\n"
     ]
    }
   ],
   "source": [
    "print(df.describe())"
   ]
  },
  {
   "cell_type": "markdown",
   "metadata": {},
   "source": [
    "### 假设检验"
   ]
  },
  {
   "cell_type": "markdown",
   "metadata": {},
   "source": [
    "常用`scipy`包中的`stats`来进行一些基本的统计推断。假设`Abra`总体均值为15000，那么可对`Abra`列进行单样本t检验："
   ]
  },
  {
   "cell_type": "code",
   "execution_count": 11,
   "metadata": {},
   "outputs": [
    {
     "name": "stdout",
     "output_type": "stream",
     "text": [
      "Ttest_1sampResult(statistic=-1.1281738488299586, pvalue=0.26270472069109496)\n"
     ]
    }
   ],
   "source": [
    "from scipy import stats as ss\n",
    "\n",
    "print(ss.ttest_1samp(a = df.loc[:,'Abra'],popmean = 15000))"
   ]
  },
  {
   "cell_type": "markdown",
   "metadata": {},
   "source": [
    "假设所有列的总体均值均为15000，对所有变量进行单样本t检验："
   ]
  },
  {
   "cell_type": "code",
   "execution_count": 12,
   "metadata": {},
   "outputs": [
    {
     "name": "stdout",
     "output_type": "stream",
     "text": [
      "Ttest_1sampResult(statistic=array([ -1.12817385,   1.07053437, -65.81425599,  -4.564575  ,   6.17156198]), pvalue=array([  2.62704721e-01,   2.87680340e-01,   4.15643528e-70,\n",
      "         1.83764399e-05,   2.82461897e-08]))\n"
     ]
    }
   ],
   "source": [
    "print(ss.ttest_1samp(a = df, popmean = 15000))"
   ]
  },
  {
   "cell_type": "markdown",
   "metadata": {},
   "source": [
    "### 简单可视化"
   ]
  },
  {
   "cell_type": "markdown",
   "metadata": {},
   "source": [
    "`matplotlib`模块是Python中常用的可视化模块。简单的箱线图如下："
   ]
  },
  {
   "cell_type": "code",
   "execution_count": 13,
   "metadata": {},
   "outputs": [
    {
     "data": {
      "image/png": "[encoded data removed]",
      "text/plain": [
       "<matplotlib.figure.Figure at 0x18d3eb068d0>"
      ]
     },
     "metadata": {},
     "output_type": "display_data"
    }
   ],
   "source": [
    "import matplotlib.pyplot as plt\n",
    "\n",
    "plt.show(df.plot(kind = 'box'))"
   ]
  },
  {
   "cell_type": "markdown",
   "metadata": {},
   "source": [
    "也可以使用`pandas`模块中集成的R语言的`ggplot`主题来对图表进行美化。"
   ]
  },
  {
   "cell_type": "code",
   "execution_count": 17,
   "metadata": {},
   "outputs": [
    {
     "name": "stdout",
     "output_type": "stream",
     "text": [
      "Axes(0.125,0.125;0.775x0.755)\n"
     ]
    },
    {
     "data": {
      "image/png": "[encoded data removed]",
      "text/plain": [
       "<matplotlib.figure.Figure at 0x18d3f387588>"
      ]
     },
     "metadata": {},
     "output_type": "display_data"
    }
   ],
   "source": [
    "%matplotlib inline\n",
    "import matplotlib.pyplot as plt\n",
    "\n",
    "plt.style.use('ggplot')\n",
    "print(df.plot(kind = 'box'))"
   ]
  },
  {
   "cell_type": "markdown",
   "metadata": {},
   "source": [
    "同样的，可使用其他模块绘制："
   ]
  },
  {
   "cell_type": "code",
   "execution_count": 18,
   "metadata": {
    "scrolled": true
   },
   "outputs": [
    {
     "data": {
      "text/plain": [
       "<matplotlib.axes._subplots.AxesSubplot at 0x18d3eee7f98>"
      ]
     },
     "execution_count": 18,
     "metadata": {},
     "output_type": "execute_result"
    },
    {
     "data": {
      "image/png": "[encoded data removed]",
      "text/plain": [
       "<matplotlib.figure.Figure at 0x18d3eefe710>"
      ]
     },
     "metadata": {},
     "output_type": "display_data"
    }
   ],
   "source": [
    "%matplotlib inline\n",
    "import seaborn as sns\n",
    "\n",
    "sns.boxplot(data=df)"
   ]
  },
  {
   "cell_type": "code",
   "execution_count": 21,
   "metadata": {},
   "outputs": [
    {
     "data": {
      "text/plain": [
       "<matplotlib.axes._subplots.AxesSubplot at 0x18d3efeee48>"
      ]
     },
     "execution_count": 21,
     "metadata": {},
     "output_type": "execute_result"
    },
    {
     "data": {
      "image/png": "[encoded data removed]",
      "text/plain": [
       "<matplotlib.figure.Figure at 0x18d3f018630>"
      ]
     },
     "metadata": {},
     "output_type": "display_data"
    }
   ],
   "source": [
    "sns.violinplot(data = df)"
   ]
  },
  {
   "cell_type": "code",
   "execution_count": 23,
   "metadata": {},
   "outputs": [
    {
     "data": {
      "text/plain": [
       "<seaborn.axisgrid.FacetGrid at 0x18d40be1470>"
      ]
     },
     "execution_count": 23,
     "metadata": {},
     "output_type": "execute_result"
    },
    {
     "data": {
      "image/png": "[encoded data removed]",
      "text/plain": [
       "<matplotlib.figure.Figure at 0x18d40be1400>"
      ]
     },
     "metadata": {},
     "output_type": "display_data"
    }
   ],
   "source": [
    "sns.lmplot(\"Benguet\",\"Ifugao\",df)"
   ]
  }
 ],
 "metadata": {
  "kernelspec": {
   "display_name": "Python 3",
   "language": "python",
   "name": "python3"
  },
  "language_info": {
   "codemirror_mode": {
    "name": "ipython",
    "version": 3
   },
   "file_extension": ".py",
   "mimetype": "text/x-python",
   "name": "python",
   "nbconvert_exporter": "python",
   "pygments_lexer": "ipython3",
   "version": "3.6.1"
  }
 },
 "nbformat": 4,
 "nbformat_minor": 2
}
